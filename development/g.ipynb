{
 "cells": [
  {
   "cell_type": "code",
   "execution_count": 1,
   "metadata": {},
   "outputs": [],
   "source": [
    "import random\n",
    "\n",
    "\n",
    "from itertools import combinations\n",
    "from collections import OrderedDict, defaultdict"
   ]
  },
  {
   "cell_type": "code",
   "execution_count": 42,
   "metadata": {},
   "outputs": [],
   "source": [
    "import plotly.express as px"
   ]
  },
  {
   "cell_type": "code",
   "execution_count": 2,
   "metadata": {},
   "outputs": [],
   "source": [
    "def convert_from_str_to_fz(s):\n",
    "    res = s.split(\"; \")[:-1]\n",
    "    res2 = []\n",
    "    for elem in res:\n",
    "        res2.append(frozenset(elem.split(\",\")))\n",
    "    return frozenset(res2)"
   ]
  },
  {
   "cell_type": "code",
   "execution_count": 3,
   "metadata": {},
   "outputs": [],
   "source": [
    "grouping = \"Mohar,Jie,Cody,Denis; Bud,Stan,Jonathan; Carly,Kyle B.; Carly,Kyle C.; Stan,Eunice,Piyush;\"\n",
    "s = convert_from_str_to_fz(grouping)\n",
    "\n",
    "\n"
   ]
  },
  {
   "cell_type": "code",
   "execution_count": 31,
   "metadata": {},
   "outputs": [],
   "source": [
    "def get_random_seeds(n, max_val, seed):\n",
    "    random.seed(seed)\n",
    "    return random.sample(range(max_val), n)\n",
    "    \n",
    "def get_pairs_so_far(val):\n",
    "    \n",
    "    pairs_so_far = defaultdict(int)\n",
    "    \n",
    "\n",
    "    for elem in list(val):\n",
    "        for pair in combinations(elem, 2):\n",
    "            pairs_so_far[frozenset(pair)] += 1\n",
    "                \n",
    "        \n",
    "    return pairs_so_far\n",
    "\n",
    "def assign_score(candidate, pairs_so_far):\n",
    "    score = 0\n",
    "    for elem in list(candidate):\n",
    "        for pair in combinations(elem, 2):\n",
    "            score += pairs_so_far[frozenset(pair)] \n",
    "    return score\n",
    "    \n",
    "def choose_group_splits(num_people):\n",
    "    if num_people%4 == 0:\n",
    "        return {\"four\": num_people//4, \"three\": 0}\n",
    "    elif num_people%3 == 0:\n",
    "        return {\"four\": 0, \"three\": num_people//3}\n",
    "    else:\n",
    "        split_strategy = {\"four\": 0, \"three\": 0}\n",
    "        while num_people %3  != 0:\n",
    "            num_people -= 4\n",
    "            split_strategy[\"four\"] += 1\n",
    "        \n",
    "        while num_people != 0:\n",
    "            num_people -= 3\n",
    "            split_strategy[\"three\"] += 1\n",
    "        \n",
    "        return split_strategy\n",
    "        \n",
    "def generate_random_groups(people, pairs_so_far, n, seeds):\n",
    "    num_people = len(people)\n",
    "    split_strategy = choose_group_splits(num_people)\n",
    "    \n",
    "    sample_score_dict = dict()\n",
    "    repeat_samples_dict = defaultdict(int)\n",
    "    for i in range(n):\n",
    "        random.seed(seeds[i])\n",
    "        candidate_order = random.sample(people, num_people)\n",
    "        \n",
    "        g4 = candidate_order[0:split_strategy[\"four\"]*4] \n",
    "        \n",
    "        g4_2d = []\n",
    "        i= 0\n",
    "        while i < len(g4):\n",
    "            g4_2d.append(frozenset(g4[i: i+4]))\n",
    "            i+=4\n",
    "        if split_strategy[\"three\"] != 0:\n",
    "            # get remaining part of list\n",
    "            g3 = candidate_order[split_strategy[\"four\"]*4:] \n",
    "            g3_2d = []\n",
    "            i = 0\n",
    "            while i < len(g3):\n",
    "                g3_2d.append(frozenset(g3[i: i+3]))\n",
    "                i+=3\n",
    "        \n",
    "        candidate = frozenset(g4_2d + g3_2d)\n",
    "        sample_score_dict[candidate] = assign_score(candidate, pairs_so_far)\n",
    "        repeat_samples_dict[candidate] += 1\n",
    "\n",
    "    return sample_score_dict, repeat_samples_dict\n",
    "\n",
    "def choose_best_sampled_group(sample_score_dict):\n",
    "    min_score = min(sample_score_dict.values())\n",
    "    for k, v in sample_score_dict.items():\n",
    "        if v == min_score:\n",
    "            return k"
   ]
  },
  {
   "cell_type": "code",
   "execution_count": 5,
   "metadata": {},
   "outputs": [],
   "source": [
    "pairs_so_far = get_pairs_so_far(s)"
   ]
  },
  {
   "cell_type": "code",
   "execution_count": 11,
   "metadata": {},
   "outputs": [
    {
     "data": {
      "text/plain": [
       "1"
      ]
     },
     "execution_count": 11,
     "metadata": {},
     "output_type": "execute_result"
    }
   ],
   "source": [
    "pairs_so_far[frozenset((\"Denis\", \"Mohar\"))]"
   ]
  },
  {
   "cell_type": "code",
   "execution_count": 30,
   "metadata": {},
   "outputs": [
    {
     "data": {
      "text/plain": [
       "[7585, 6116, 4376, 2269, 3049, 105, 5543, 8237, 7597, 9907]"
      ]
     },
     "execution_count": 30,
     "metadata": {},
     "output_type": "execute_result"
    }
   ],
   "source": [
    "get_random_seeds(n = 10, max_val = 10000, seed = 9)"
   ]
  },
  {
   "cell_type": "code",
   "execution_count": 21,
   "metadata": {},
   "outputs": [
    {
     "data": {
      "text/plain": [
       "[9361, 533, 7026, 7906, 9471, 243, 3376, 7578, 8049, 4546]"
      ]
     },
     "execution_count": 21,
     "metadata": {},
     "output_type": "execute_result"
    }
   ],
   "source": [
    "random.seed(10)\n",
    "random.sample(range(10000), 10)"
   ]
  },
  {
   "cell_type": "code",
   "execution_count": 25,
   "metadata": {},
   "outputs": [
    {
     "data": {
      "text/plain": [
       "[2195, 3194, 4962, 8787, 5998, 3935, 5150, 8994, 7383, 7143]"
      ]
     },
     "execution_count": 25,
     "metadata": {},
     "output_type": "execute_result"
    }
   ],
   "source": [
    "random.sample(range(10000), 10)"
   ]
  },
  {
   "cell_type": "code",
   "execution_count": 49,
   "metadata": {},
   "outputs": [
    {
     "name": "stdout",
     "output_type": "stream",
     "text": [
      "frozenset({frozenset({'Stan', 'Cody', 'Eunice'}), frozenset({'Mohar', 'Jonathan', 'Kyle B.'}), frozenset({'Jie', 'Bud', 'Carly'}), frozenset({'Kyle C.', 'Denis', 'Piyush', 'Kirtiraj'})})\n",
      "frozenset({frozenset({'Piyush', 'Denis', 'Kirtiraj'}), frozenset({'Mohar', 'Bud', 'Kyle B.'}), frozenset({'Kyle C.', 'Jonathan', 'Jie'}), frozenset({'Stan', 'Cody', 'Eunice', 'Carly'})})\n",
      "frozenset({frozenset({'Piyush', 'Mohar', 'Eunice'}), frozenset({'Kyle C.', 'Stan', 'Cody'}), frozenset({'Bud', 'Denis', 'Carly'}), frozenset({'Kirtiraj', 'Jonathan', 'Jie', 'Kyle B.'})})\n",
      "frozenset({frozenset({'Kyle C.', 'Denis', 'Eunice'}), frozenset({'Mohar', 'Kirtiraj', 'Jonathan', 'Kyle B.'}), frozenset({'Stan', 'Cody', 'Carly'}), frozenset({'Piyush', 'Jie', 'Bud'})})\n",
      "frozenset({frozenset({'Piyush', 'Stan', 'Kyle C.', 'Cody'}), frozenset({'Mohar', 'Bud', 'Carly'}), frozenset({'Jonathan', 'Denis', 'Eunice'}), frozenset({'Jie', 'Kyle B.', 'Kirtiraj'})})\n",
      "frozenset({frozenset({'Kyle C.', 'Jie', 'Eunice', 'Kirtiraj'}), frozenset({'Piyush', 'Stan', 'Mohar'}), frozenset({'Bud', 'Cody', 'Kyle B.'}), frozenset({'Jonathan', 'Denis', 'Carly'})})\n",
      "frozenset({frozenset({'Stan', 'Denis', 'Carly'}), frozenset({'Piyush', 'Jonathan', 'Jie', 'Kirtiraj'}), frozenset({'Cody', 'Eunice', 'Kyle B.'}), frozenset({'Kyle C.', 'Mohar', 'Bud'})})\n",
      "frozenset({frozenset({'Denis', 'Bud', 'Eunice'}), frozenset({'Kyle C.', 'Jonathan', 'Mohar'}), frozenset({'Piyush', 'Cody', 'Carly', 'Kirtiraj'}), frozenset({'Stan', 'Jie', 'Kyle B.'})})\n",
      "frozenset({frozenset({'Jie', 'Eunice', 'Kyle B.'}), frozenset({'Jonathan', 'Mohar', 'Carly'}), frozenset({'Kyle C.', 'Bud', 'Cody', 'Kirtiraj'}), frozenset({'Piyush', 'Stan', 'Denis'})})\n",
      "frozenset({frozenset({'Jie', 'Bud', 'Kirtiraj'}), frozenset({'Stan', 'Mohar', 'Kyle B.'}), frozenset({'Jonathan', 'Denis', 'Eunice', 'Carly'}), frozenset({'Kyle C.', 'Cody', 'Piyush'})})\n",
      "frozenset({frozenset({'Piyush', 'Cody', 'Kyle B.'}), frozenset({'Mohar', 'Bud', 'Carly'}), frozenset({'Jonathan', 'Denis', 'Eunice', 'Kirtiraj'}), frozenset({'Kyle C.', 'Stan', 'Jie'})})\n"
     ]
    }
   ],
   "source": [
    "people = [\"Bud\", \"Carly\", \"Cody\", \"Denis\", \"Eunice\", \"Jie\", \"Jonathan\", \"Kirtiraj\", \"Kyle B.\", \"Kyle C.\", \"Mohar\", \"Piyush\", \"Stan\"]\n",
    "\n",
    "for i in range(11):\n",
    "    seeds = get_random_seeds(n = 1000, max_val = 10000, seed = i)\n",
    "    scores_dict, freq = generate_random_groups(people = people, pairs_so_far = pairs_so_far, n = 1000, seeds = seeds)\n",
    "    final_group = choose_best_sampled_group(sample_score_dict = scores_dict)\n",
    "    print(final_group)"
   ]
  },
  {
   "cell_type": "markdown",
   "metadata": {},
   "source": []
  },
  {
   "cell_type": "code",
   "execution_count": 46,
   "metadata": {},
   "outputs": [
    {
     "data": {
      "application/vnd.plotly.v1+json": {
       "config": {
        "plotlyServerURL": "https://plot.ly"
       },
       "data": [
        {
         "alignmentgroup": "True",
         "bingroup": "x",
         "hovertemplate": "variable=0<br>value=%{x}<br>count=%{y}<extra></extra>",
         "legendgroup": "0",
         "marker": {
          "color": "#636efa",
          "pattern": {
           "shape": ""
          }
         },
         "name": "0",
         "offsetgroup": "0",
         "orientation": "v",
         "showlegend": true,
         "type": "histogram",
         "x": [
          2,
          1,
          1,
          2,
          2,
          2,
          2,
          2,
          3,
          1,
          1,
          5,
          2,
          2,
          2,
          2,
          2,
          1,
          2,
          3,
          2,
          1,
          1,
          3,
          0,
          0,
          2,
          0,
          2,
          1,
          2,
          4,
          4,
          0,
          2,
          0,
          1,
          0,
          3,
          1,
          1,
          3,
          4,
          4,
          4,
          2,
          2,
          1,
          0,
          2,
          1,
          2,
          0,
          2,
          1,
          2,
          2,
          4,
          2,
          0,
          2,
          3,
          0,
          2,
          2,
          1,
          2,
          3,
          3,
          2,
          2,
          3,
          1,
          0,
          1,
          2,
          1,
          1,
          1,
          2,
          1,
          1,
          3,
          0,
          2,
          3,
          3,
          1,
          1,
          5,
          2,
          3,
          2,
          2,
          3,
          3,
          1,
          2,
          1,
          1,
          2,
          1,
          1,
          1,
          0,
          3,
          4,
          0,
          0,
          3,
          4,
          2,
          1,
          1,
          2,
          1,
          3,
          3,
          4,
          0,
          1,
          3,
          1,
          2,
          1,
          1,
          1,
          3,
          4,
          5,
          1,
          2,
          2,
          1,
          1,
          2,
          3,
          2,
          2,
          4,
          1,
          1,
          4,
          2,
          2,
          1,
          2,
          0,
          1,
          7,
          1,
          2,
          2,
          3,
          2,
          2,
          2,
          1,
          1,
          2,
          3,
          3,
          3,
          3,
          6,
          2,
          4,
          3,
          2,
          1,
          0,
          3,
          1,
          2,
          1,
          3,
          1,
          1,
          3,
          3,
          1,
          0,
          2,
          1,
          2,
          2,
          0,
          2,
          2,
          0,
          2,
          1,
          2,
          3,
          2,
          3,
          3,
          1,
          0,
          1,
          1,
          1,
          5,
          2,
          1,
          2,
          2,
          1,
          2,
          1,
          2,
          3,
          1,
          1,
          2,
          2,
          3,
          1,
          4,
          2,
          1,
          1,
          5,
          3,
          2,
          1,
          1,
          3,
          1,
          3,
          2,
          2,
          1,
          3,
          4,
          3,
          1,
          3,
          0,
          1,
          4,
          2,
          2,
          1,
          5,
          2,
          4,
          2,
          1,
          3,
          3,
          2,
          2,
          1,
          4,
          1,
          3,
          2,
          3,
          4,
          5,
          1,
          1,
          4,
          1,
          3,
          1,
          2,
          3,
          3,
          2,
          2,
          3,
          1,
          2,
          4,
          3,
          1,
          5,
          3,
          2,
          2,
          4,
          5,
          4,
          2,
          3,
          1,
          1,
          1,
          2,
          3,
          1,
          2,
          1,
          3,
          3,
          2,
          1,
          2,
          2,
          3,
          2,
          3,
          3,
          1,
          3,
          4,
          1,
          3,
          3,
          3,
          1,
          3,
          1,
          4,
          1,
          2,
          3,
          2,
          1,
          1,
          3,
          5,
          1,
          4,
          3,
          2,
          2,
          1,
          2,
          3,
          2,
          1,
          3,
          1,
          2,
          2,
          1,
          1,
          0,
          1,
          1,
          4,
          1,
          0,
          2,
          2,
          4,
          1,
          0,
          0,
          5,
          2,
          2,
          2,
          1,
          2,
          1,
          5,
          1,
          1,
          3,
          2,
          1,
          2,
          2,
          3,
          2,
          2,
          1,
          2,
          1,
          1,
          1,
          3,
          2,
          2,
          2,
          1,
          1,
          2,
          4,
          1,
          2,
          1,
          2,
          1,
          1,
          1,
          2,
          0,
          0,
          1,
          1,
          0,
          1,
          2,
          4,
          3,
          2,
          3,
          1,
          1,
          2,
          2,
          2,
          1,
          3,
          6,
          2,
          2,
          2,
          2,
          2,
          0,
          3,
          1,
          3,
          2,
          2,
          1,
          1,
          3,
          2,
          3,
          2,
          2,
          2,
          1,
          3,
          2,
          1,
          2,
          4,
          2,
          2,
          5,
          3,
          3,
          2,
          3,
          2,
          2,
          1,
          3,
          4,
          3,
          3,
          2,
          2,
          2,
          2,
          8,
          2,
          3,
          1,
          5,
          3,
          2,
          1,
          2,
          2,
          1,
          2,
          2,
          1,
          1,
          2,
          2,
          4,
          1,
          1,
          1,
          3,
          2,
          2,
          2,
          0,
          2,
          2,
          2,
          1,
          2,
          3,
          3,
          4,
          2,
          2,
          1,
          2,
          1,
          3,
          0,
          1,
          4,
          4,
          4,
          1,
          3,
          2,
          1,
          4,
          1,
          1,
          3,
          2,
          2,
          1,
          2,
          1,
          1,
          2,
          1,
          2,
          2,
          1,
          1,
          2,
          2,
          2,
          3,
          1,
          1,
          1,
          2,
          3,
          3,
          2,
          2,
          2,
          1,
          2,
          2,
          5,
          3,
          1,
          2,
          0,
          5,
          2,
          2,
          3,
          2,
          3,
          1,
          3,
          3,
          1,
          5,
          2,
          2,
          3,
          1,
          3,
          1,
          3,
          1,
          0,
          4,
          3,
          4,
          2,
          1,
          3,
          2,
          2,
          1,
          3,
          1,
          1,
          2,
          1,
          1,
          2,
          3,
          0,
          1,
          2,
          2,
          2,
          2,
          3,
          0,
          4,
          2,
          3,
          2,
          2,
          1,
          4,
          6,
          2,
          2,
          2,
          1,
          1,
          1,
          1,
          4,
          4,
          2,
          3,
          1,
          3,
          3,
          1,
          2,
          1,
          3,
          2,
          3,
          2,
          3,
          2,
          2,
          1,
          2,
          1,
          3,
          4,
          1,
          2,
          0,
          2,
          1,
          2,
          1,
          2,
          3,
          8,
          2,
          2,
          2,
          3,
          2,
          3,
          2,
          2,
          1,
          0,
          1,
          0,
          1,
          2,
          4,
          2,
          1,
          2,
          1,
          4,
          2,
          3,
          3,
          1,
          1,
          1,
          3,
          2,
          4,
          1,
          2,
          1,
          1,
          0,
          1,
          1,
          1,
          2,
          4,
          2,
          2,
          2,
          2,
          3,
          3,
          2,
          2,
          4,
          2,
          2,
          2,
          3,
          1,
          1,
          0,
          5,
          2,
          1,
          4,
          2,
          3,
          1,
          2,
          0,
          6,
          3,
          3,
          2,
          0,
          3,
          2,
          2,
          5,
          3,
          1,
          2,
          1,
          1,
          1,
          2,
          2,
          2,
          3,
          3,
          2,
          2,
          2,
          1,
          1,
          1,
          2,
          2,
          4,
          3,
          1,
          4,
          3,
          2,
          3,
          1,
          2,
          2,
          1,
          1,
          4,
          4,
          1,
          3,
          2,
          1,
          0,
          4,
          1,
          4,
          3,
          2,
          2,
          4,
          4,
          2,
          2,
          2,
          1,
          0,
          1,
          1,
          1,
          2,
          2,
          3,
          1,
          2,
          2,
          4,
          1,
          2,
          3,
          0,
          0,
          2,
          1,
          1,
          1,
          0,
          2,
          1,
          2,
          2,
          2,
          2,
          3,
          1,
          1,
          2,
          1,
          2,
          1,
          2,
          2,
          2,
          4,
          2,
          4,
          2,
          3,
          5,
          4,
          0,
          3,
          5,
          2,
          2,
          0,
          3,
          3,
          0,
          1,
          2,
          1,
          1,
          2,
          0,
          3,
          1,
          4,
          2,
          5,
          7,
          2,
          1,
          1,
          3,
          5,
          1,
          1,
          3,
          2,
          2,
          3,
          1,
          2,
          4,
          4,
          2,
          2,
          3,
          3,
          1,
          4,
          1,
          1,
          4,
          2,
          2,
          1,
          1,
          2,
          1,
          3,
          2,
          2,
          2,
          3,
          0,
          2,
          1,
          3,
          4,
          3,
          4,
          3,
          0,
          2,
          2,
          2,
          0,
          3,
          3,
          1,
          1,
          1,
          2,
          1,
          3,
          3,
          3,
          2,
          3,
          2,
          2,
          1,
          1,
          0,
          3,
          3,
          3,
          4,
          2,
          2,
          3,
          6,
          2,
          2,
          3,
          2,
          1,
          5,
          4,
          2,
          1,
          1,
          2,
          3,
          3,
          3,
          2,
          3,
          3,
          2,
          2,
          0,
          1,
          2,
          3,
          4,
          1,
          0,
          1,
          3,
          3,
          4,
          4,
          1,
          1,
          3,
          1,
          2,
          3,
          3,
          3,
          3,
          4,
          5,
          1,
          1,
          0,
          3,
          2,
          1,
          3,
          2,
          3,
          1,
          1,
          3,
          3,
          2,
          2,
          3,
          4,
          2,
          6,
          1,
          2,
          2,
          2,
          3,
          1,
          3,
          2,
          1,
          1,
          2,
          2,
          3,
          2,
          3,
          1,
          2,
          3,
          3,
          2,
          2,
          1,
          1,
          2,
          2,
          2,
          2,
          1,
          2,
          1,
          1,
          2,
          5,
          3,
          3,
          4,
          2,
          3,
          4,
          1,
          0,
          3,
          1,
          1
         ],
         "xaxis": "x",
         "yaxis": "y"
        }
       ],
       "layout": {
        "barmode": "relative",
        "legend": {
         "title": {
          "text": "variable"
         },
         "tracegroupgap": 0
        },
        "margin": {
         "t": 60
        },
        "template": {
         "data": {
          "bar": [
           {
            "error_x": {
             "color": "#2a3f5f"
            },
            "error_y": {
             "color": "#2a3f5f"
            },
            "marker": {
             "line": {
              "color": "white",
              "width": 0.5
             },
             "pattern": {
              "fillmode": "overlay",
              "size": 10,
              "solidity": 0.2
             }
            },
            "type": "bar"
           }
          ],
          "barpolar": [
           {
            "marker": {
             "line": {
              "color": "white",
              "width": 0.5
             },
             "pattern": {
              "fillmode": "overlay",
              "size": 10,
              "solidity": 0.2
             }
            },
            "type": "barpolar"
           }
          ],
          "carpet": [
           {
            "aaxis": {
             "endlinecolor": "#2a3f5f",
             "gridcolor": "#C8D4E3",
             "linecolor": "#C8D4E3",
             "minorgridcolor": "#C8D4E3",
             "startlinecolor": "#2a3f5f"
            },
            "baxis": {
             "endlinecolor": "#2a3f5f",
             "gridcolor": "#C8D4E3",
             "linecolor": "#C8D4E3",
             "minorgridcolor": "#C8D4E3",
             "startlinecolor": "#2a3f5f"
            },
            "type": "carpet"
           }
          ],
          "choropleth": [
           {
            "colorbar": {
             "outlinewidth": 0,
             "ticks": ""
            },
            "type": "choropleth"
           }
          ],
          "contour": [
           {
            "colorbar": {
             "outlinewidth": 0,
             "ticks": ""
            },
            "colorscale": [
             [
              0,
              "#0d0887"
             ],
             [
              0.1111111111111111,
              "#46039f"
             ],
             [
              0.2222222222222222,
              "#7201a8"
             ],
             [
              0.3333333333333333,
              "#9c179e"
             ],
             [
              0.4444444444444444,
              "#bd3786"
             ],
             [
              0.5555555555555556,
              "#d8576b"
             ],
             [
              0.6666666666666666,
              "#ed7953"
             ],
             [
              0.7777777777777778,
              "#fb9f3a"
             ],
             [
              0.8888888888888888,
              "#fdca26"
             ],
             [
              1,
              "#f0f921"
             ]
            ],
            "type": "contour"
           }
          ],
          "contourcarpet": [
           {
            "colorbar": {
             "outlinewidth": 0,
             "ticks": ""
            },
            "type": "contourcarpet"
           }
          ],
          "heatmap": [
           {
            "colorbar": {
             "outlinewidth": 0,
             "ticks": ""
            },
            "colorscale": [
             [
              0,
              "#0d0887"
             ],
             [
              0.1111111111111111,
              "#46039f"
             ],
             [
              0.2222222222222222,
              "#7201a8"
             ],
             [
              0.3333333333333333,
              "#9c179e"
             ],
             [
              0.4444444444444444,
              "#bd3786"
             ],
             [
              0.5555555555555556,
              "#d8576b"
             ],
             [
              0.6666666666666666,
              "#ed7953"
             ],
             [
              0.7777777777777778,
              "#fb9f3a"
             ],
             [
              0.8888888888888888,
              "#fdca26"
             ],
             [
              1,
              "#f0f921"
             ]
            ],
            "type": "heatmap"
           }
          ],
          "heatmapgl": [
           {
            "colorbar": {
             "outlinewidth": 0,
             "ticks": ""
            },
            "colorscale": [
             [
              0,
              "#0d0887"
             ],
             [
              0.1111111111111111,
              "#46039f"
             ],
             [
              0.2222222222222222,
              "#7201a8"
             ],
             [
              0.3333333333333333,
              "#9c179e"
             ],
             [
              0.4444444444444444,
              "#bd3786"
             ],
             [
              0.5555555555555556,
              "#d8576b"
             ],
             [
              0.6666666666666666,
              "#ed7953"
             ],
             [
              0.7777777777777778,
              "#fb9f3a"
             ],
             [
              0.8888888888888888,
              "#fdca26"
             ],
             [
              1,
              "#f0f921"
             ]
            ],
            "type": "heatmapgl"
           }
          ],
          "histogram": [
           {
            "marker": {
             "pattern": {
              "fillmode": "overlay",
              "size": 10,
              "solidity": 0.2
             }
            },
            "type": "histogram"
           }
          ],
          "histogram2d": [
           {
            "colorbar": {
             "outlinewidth": 0,
             "ticks": ""
            },
            "colorscale": [
             [
              0,
              "#0d0887"
             ],
             [
              0.1111111111111111,
              "#46039f"
             ],
             [
              0.2222222222222222,
              "#7201a8"
             ],
             [
              0.3333333333333333,
              "#9c179e"
             ],
             [
              0.4444444444444444,
              "#bd3786"
             ],
             [
              0.5555555555555556,
              "#d8576b"
             ],
             [
              0.6666666666666666,
              "#ed7953"
             ],
             [
              0.7777777777777778,
              "#fb9f3a"
             ],
             [
              0.8888888888888888,
              "#fdca26"
             ],
             [
              1,
              "#f0f921"
             ]
            ],
            "type": "histogram2d"
           }
          ],
          "histogram2dcontour": [
           {
            "colorbar": {
             "outlinewidth": 0,
             "ticks": ""
            },
            "colorscale": [
             [
              0,
              "#0d0887"
             ],
             [
              0.1111111111111111,
              "#46039f"
             ],
             [
              0.2222222222222222,
              "#7201a8"
             ],
             [
              0.3333333333333333,
              "#9c179e"
             ],
             [
              0.4444444444444444,
              "#bd3786"
             ],
             [
              0.5555555555555556,
              "#d8576b"
             ],
             [
              0.6666666666666666,
              "#ed7953"
             ],
             [
              0.7777777777777778,
              "#fb9f3a"
             ],
             [
              0.8888888888888888,
              "#fdca26"
             ],
             [
              1,
              "#f0f921"
             ]
            ],
            "type": "histogram2dcontour"
           }
          ],
          "mesh3d": [
           {
            "colorbar": {
             "outlinewidth": 0,
             "ticks": ""
            },
            "type": "mesh3d"
           }
          ],
          "parcoords": [
           {
            "line": {
             "colorbar": {
              "outlinewidth": 0,
              "ticks": ""
             }
            },
            "type": "parcoords"
           }
          ],
          "pie": [
           {
            "automargin": true,
            "type": "pie"
           }
          ],
          "scatter": [
           {
            "fillpattern": {
             "fillmode": "overlay",
             "size": 10,
             "solidity": 0.2
            },
            "type": "scatter"
           }
          ],
          "scatter3d": [
           {
            "line": {
             "colorbar": {
              "outlinewidth": 0,
              "ticks": ""
             }
            },
            "marker": {
             "colorbar": {
              "outlinewidth": 0,
              "ticks": ""
             }
            },
            "type": "scatter3d"
           }
          ],
          "scattercarpet": [
           {
            "marker": {
             "colorbar": {
              "outlinewidth": 0,
              "ticks": ""
             }
            },
            "type": "scattercarpet"
           }
          ],
          "scattergeo": [
           {
            "marker": {
             "colorbar": {
              "outlinewidth": 0,
              "ticks": ""
             }
            },
            "type": "scattergeo"
           }
          ],
          "scattergl": [
           {
            "marker": {
             "colorbar": {
              "outlinewidth": 0,
              "ticks": ""
             }
            },
            "type": "scattergl"
           }
          ],
          "scattermapbox": [
           {
            "marker": {
             "colorbar": {
              "outlinewidth": 0,
              "ticks": ""
             }
            },
            "type": "scattermapbox"
           }
          ],
          "scatterpolar": [
           {
            "marker": {
             "colorbar": {
              "outlinewidth": 0,
              "ticks": ""
             }
            },
            "type": "scatterpolar"
           }
          ],
          "scatterpolargl": [
           {
            "marker": {
             "colorbar": {
              "outlinewidth": 0,
              "ticks": ""
             }
            },
            "type": "scatterpolargl"
           }
          ],
          "scatterternary": [
           {
            "marker": {
             "colorbar": {
              "outlinewidth": 0,
              "ticks": ""
             }
            },
            "type": "scatterternary"
           }
          ],
          "surface": [
           {
            "colorbar": {
             "outlinewidth": 0,
             "ticks": ""
            },
            "colorscale": [
             [
              0,
              "#0d0887"
             ],
             [
              0.1111111111111111,
              "#46039f"
             ],
             [
              0.2222222222222222,
              "#7201a8"
             ],
             [
              0.3333333333333333,
              "#9c179e"
             ],
             [
              0.4444444444444444,
              "#bd3786"
             ],
             [
              0.5555555555555556,
              "#d8576b"
             ],
             [
              0.6666666666666666,
              "#ed7953"
             ],
             [
              0.7777777777777778,
              "#fb9f3a"
             ],
             [
              0.8888888888888888,
              "#fdca26"
             ],
             [
              1,
              "#f0f921"
             ]
            ],
            "type": "surface"
           }
          ],
          "table": [
           {
            "cells": {
             "fill": {
              "color": "#EBF0F8"
             },
             "line": {
              "color": "white"
             }
            },
            "header": {
             "fill": {
              "color": "#C8D4E3"
             },
             "line": {
              "color": "white"
             }
            },
            "type": "table"
           }
          ]
         },
         "layout": {
          "annotationdefaults": {
           "arrowcolor": "#2a3f5f",
           "arrowhead": 0,
           "arrowwidth": 1
          },
          "autotypenumbers": "strict",
          "coloraxis": {
           "colorbar": {
            "outlinewidth": 0,
            "ticks": ""
           }
          },
          "colorscale": {
           "diverging": [
            [
             0,
             "#8e0152"
            ],
            [
             0.1,
             "#c51b7d"
            ],
            [
             0.2,
             "#de77ae"
            ],
            [
             0.3,
             "#f1b6da"
            ],
            [
             0.4,
             "#fde0ef"
            ],
            [
             0.5,
             "#f7f7f7"
            ],
            [
             0.6,
             "#e6f5d0"
            ],
            [
             0.7,
             "#b8e186"
            ],
            [
             0.8,
             "#7fbc41"
            ],
            [
             0.9,
             "#4d9221"
            ],
            [
             1,
             "#276419"
            ]
           ],
           "sequential": [
            [
             0,
             "#0d0887"
            ],
            [
             0.1111111111111111,
             "#46039f"
            ],
            [
             0.2222222222222222,
             "#7201a8"
            ],
            [
             0.3333333333333333,
             "#9c179e"
            ],
            [
             0.4444444444444444,
             "#bd3786"
            ],
            [
             0.5555555555555556,
             "#d8576b"
            ],
            [
             0.6666666666666666,
             "#ed7953"
            ],
            [
             0.7777777777777778,
             "#fb9f3a"
            ],
            [
             0.8888888888888888,
             "#fdca26"
            ],
            [
             1,
             "#f0f921"
            ]
           ],
           "sequentialminus": [
            [
             0,
             "#0d0887"
            ],
            [
             0.1111111111111111,
             "#46039f"
            ],
            [
             0.2222222222222222,
             "#7201a8"
            ],
            [
             0.3333333333333333,
             "#9c179e"
            ],
            [
             0.4444444444444444,
             "#bd3786"
            ],
            [
             0.5555555555555556,
             "#d8576b"
            ],
            [
             0.6666666666666666,
             "#ed7953"
            ],
            [
             0.7777777777777778,
             "#fb9f3a"
            ],
            [
             0.8888888888888888,
             "#fdca26"
            ],
            [
             1,
             "#f0f921"
            ]
           ]
          },
          "colorway": [
           "#636efa",
           "#EF553B",
           "#00cc96",
           "#ab63fa",
           "#FFA15A",
           "#19d3f3",
           "#FF6692",
           "#B6E880",
           "#FF97FF",
           "#FECB52"
          ],
          "font": {
           "color": "#2a3f5f"
          },
          "geo": {
           "bgcolor": "white",
           "lakecolor": "white",
           "landcolor": "white",
           "showlakes": true,
           "showland": true,
           "subunitcolor": "#C8D4E3"
          },
          "hoverlabel": {
           "align": "left"
          },
          "hovermode": "closest",
          "mapbox": {
           "style": "light"
          },
          "paper_bgcolor": "white",
          "plot_bgcolor": "white",
          "polar": {
           "angularaxis": {
            "gridcolor": "#EBF0F8",
            "linecolor": "#EBF0F8",
            "ticks": ""
           },
           "bgcolor": "white",
           "radialaxis": {
            "gridcolor": "#EBF0F8",
            "linecolor": "#EBF0F8",
            "ticks": ""
           }
          },
          "scene": {
           "xaxis": {
            "backgroundcolor": "white",
            "gridcolor": "#DFE8F3",
            "gridwidth": 2,
            "linecolor": "#EBF0F8",
            "showbackground": true,
            "ticks": "",
            "zerolinecolor": "#EBF0F8"
           },
           "yaxis": {
            "backgroundcolor": "white",
            "gridcolor": "#DFE8F3",
            "gridwidth": 2,
            "linecolor": "#EBF0F8",
            "showbackground": true,
            "ticks": "",
            "zerolinecolor": "#EBF0F8"
           },
           "zaxis": {
            "backgroundcolor": "white",
            "gridcolor": "#DFE8F3",
            "gridwidth": 2,
            "linecolor": "#EBF0F8",
            "showbackground": true,
            "ticks": "",
            "zerolinecolor": "#EBF0F8"
           }
          },
          "shapedefaults": {
           "line": {
            "color": "#2a3f5f"
           }
          },
          "ternary": {
           "aaxis": {
            "gridcolor": "#DFE8F3",
            "linecolor": "#A2B1C6",
            "ticks": ""
           },
           "baxis": {
            "gridcolor": "#DFE8F3",
            "linecolor": "#A2B1C6",
            "ticks": ""
           },
           "bgcolor": "white",
           "caxis": {
            "gridcolor": "#DFE8F3",
            "linecolor": "#A2B1C6",
            "ticks": ""
           }
          },
          "title": {
           "x": 0.05
          },
          "xaxis": {
           "automargin": true,
           "gridcolor": "#EBF0F8",
           "linecolor": "#EBF0F8",
           "ticks": "",
           "title": {
            "standoff": 15
           },
           "zerolinecolor": "#EBF0F8",
           "zerolinewidth": 2
          },
          "yaxis": {
           "automargin": true,
           "gridcolor": "#EBF0F8",
           "linecolor": "#EBF0F8",
           "ticks": "",
           "title": {
            "standoff": 15
           },
           "zerolinecolor": "#EBF0F8",
           "zerolinewidth": 2
          }
         }
        },
        "xaxis": {
         "anchor": "y",
         "domain": [
          0,
          1
         ],
         "title": {
          "text": "value"
         }
        },
        "yaxis": {
         "anchor": "x",
         "domain": [
          0,
          1
         ],
         "title": {
          "text": "count"
         }
        }
       }
      }
     },
     "metadata": {},
     "output_type": "display_data"
    }
   ],
   "source": [
    "px.histogram(list(scores_dict.values()), template=\"plotly_white\")"
   ]
  },
  {
   "cell_type": "code",
   "execution_count": 48,
   "metadata": {},
   "outputs": [
    {
     "data": {
      "application/vnd.plotly.v1+json": {
       "config": {
        "plotlyServerURL": "https://plot.ly"
       },
       "data": [
        {
         "alignmentgroup": "True",
         "bingroup": "x",
         "hovertemplate": "variable=0<br>value=%{x}<br>count=%{y}<extra></extra>",
         "legendgroup": "0",
         "marker": {
          "color": "#636efa",
          "pattern": {
           "shape": ""
          }
         },
         "name": "0",
         "offsetgroup": "0",
         "orientation": "v",
         "showlegend": true,
         "type": "histogram",
         "x": [
          2,
          2,
          1,
          3,
          2,
          3,
          3,
          2,
          3,
          4,
          2,
          5,
          2,
          4,
          4,
          1,
          4,
          1,
          2,
          4,
          4,
          1,
          2,
          2,
          2,
          2,
          1,
          2,
          1,
          1,
          2,
          0,
          2,
          0,
          2,
          1,
          1,
          1,
          3,
          2,
          2,
          1,
          2,
          4,
          1,
          2,
          1,
          3,
          1,
          1,
          2,
          2,
          2,
          2,
          2,
          4,
          2,
          3,
          5,
          4,
          2,
          1,
          4,
          1,
          1,
          2,
          2,
          3,
          1,
          2,
          2,
          2,
          2,
          4,
          2,
          4,
          1,
          4,
          1,
          2,
          3,
          3,
          2,
          2,
          1,
          4,
          3,
          1,
          1,
          3,
          2,
          3,
          2,
          2,
          2,
          1,
          1,
          2,
          2,
          4,
          2,
          4,
          2,
          2,
          3,
          1,
          2,
          2,
          5,
          2,
          1,
          2,
          5,
          2,
          4,
          5,
          2,
          2,
          2,
          4,
          4,
          2,
          1,
          1,
          3,
          1,
          1,
          3,
          2,
          1,
          2,
          3,
          0,
          1,
          1,
          1,
          2,
          3,
          3,
          2,
          4,
          2,
          5,
          2,
          1,
          2,
          1,
          2,
          1,
          2,
          1,
          2,
          5,
          3,
          2,
          5,
          2,
          3,
          1,
          4,
          4,
          1,
          1,
          5,
          1,
          1,
          3,
          1,
          1,
          1,
          2,
          2,
          0,
          2,
          1,
          5,
          3,
          1,
          3,
          4,
          2,
          4,
          3,
          2,
          4,
          2,
          3,
          4,
          3,
          2,
          2,
          2,
          3,
          2,
          1,
          0,
          2,
          1,
          4,
          3,
          2,
          1,
          2,
          1,
          4,
          8,
          2,
          4,
          3,
          1,
          1,
          2,
          2,
          3,
          1,
          1,
          1,
          1,
          1,
          1,
          3,
          4,
          2,
          2,
          1,
          2,
          3,
          1,
          3,
          2,
          1,
          7,
          2,
          2,
          1,
          2,
          4,
          1,
          1,
          3,
          4,
          1,
          2,
          1,
          2,
          0,
          2,
          2,
          1,
          2,
          3,
          0,
          3,
          3,
          2,
          4,
          2,
          1,
          2,
          1,
          4,
          4,
          2,
          1,
          3,
          1,
          4,
          4,
          1,
          1,
          3,
          1,
          3,
          4,
          2,
          2,
          2,
          2,
          2,
          3,
          0,
          3,
          1,
          2,
          4,
          3,
          2,
          2,
          2,
          3,
          3,
          1,
          3,
          3,
          0,
          2,
          3,
          1,
          4,
          1,
          2,
          1,
          0,
          2,
          4,
          0,
          2,
          3,
          2,
          1,
          0,
          2,
          2,
          2,
          0,
          1,
          1,
          1,
          3,
          1,
          1,
          1,
          4,
          1,
          2,
          1,
          1,
          2,
          0,
          1,
          1,
          1,
          1,
          1,
          5,
          2,
          2,
          4,
          4,
          0,
          3,
          2,
          3,
          2,
          2,
          2,
          2,
          1,
          1,
          1,
          1,
          2,
          2,
          1,
          1,
          2,
          3,
          2,
          2,
          3,
          2,
          4,
          3,
          2,
          4,
          1,
          2,
          5,
          3,
          2,
          2,
          2,
          2,
          4,
          2,
          1,
          1,
          5,
          3,
          3,
          2,
          2,
          2,
          2,
          1,
          1,
          2,
          2,
          2,
          3,
          3,
          2,
          3,
          1,
          2,
          3,
          2,
          1,
          0,
          1,
          3,
          3,
          0,
          1,
          4,
          1,
          1,
          3,
          1,
          4,
          3,
          1,
          3,
          3,
          1,
          1,
          1,
          1,
          1,
          2,
          1,
          2,
          2,
          1,
          3,
          4,
          2,
          2,
          1,
          1,
          1,
          4,
          2,
          2,
          0,
          1,
          1,
          2,
          3,
          4,
          3,
          2,
          4,
          2,
          2,
          1,
          2,
          2,
          1,
          2,
          1,
          0,
          2,
          2,
          2,
          2,
          2,
          2,
          0,
          3,
          1,
          1,
          4,
          1,
          1,
          3,
          2,
          0,
          3,
          3,
          1,
          3,
          3,
          0,
          2,
          2,
          3,
          3,
          2,
          1,
          4,
          2,
          2,
          2,
          3,
          5,
          2,
          3,
          3,
          3,
          2,
          2,
          2,
          1,
          4,
          3,
          0,
          2,
          1,
          3,
          1,
          2,
          1,
          0,
          3,
          2,
          1,
          2,
          4,
          0,
          3,
          2,
          1,
          3,
          0,
          2,
          2,
          3,
          3,
          2,
          3,
          0,
          2,
          3,
          1,
          1,
          2,
          3,
          2,
          2,
          1,
          0,
          3,
          2,
          0,
          3,
          2,
          2,
          0,
          1,
          5,
          3,
          1,
          1,
          3,
          1,
          2,
          1,
          2,
          2,
          2,
          2,
          2,
          0,
          2,
          0,
          1,
          1,
          1,
          1,
          1,
          3,
          1,
          1,
          5,
          5,
          1,
          4,
          4,
          3,
          1,
          4,
          2,
          2,
          2,
          2,
          2,
          2,
          3,
          2,
          1,
          2,
          1,
          1,
          2,
          2,
          2,
          3,
          3,
          4,
          3,
          2,
          3,
          2,
          1,
          3,
          1,
          1,
          3,
          2,
          3,
          2,
          2,
          1,
          2,
          2,
          6,
          2,
          1,
          1,
          1,
          1,
          1,
          4,
          0,
          2,
          2,
          0,
          2,
          2,
          1,
          2,
          2,
          2,
          1,
          1,
          3,
          1,
          3,
          2,
          3,
          1,
          2,
          1,
          2,
          2,
          2,
          1,
          1,
          3,
          3,
          4,
          1,
          1,
          4,
          1,
          1,
          1,
          3,
          1,
          0,
          3,
          2,
          2,
          0,
          2,
          3,
          2,
          1,
          0,
          4,
          3,
          2,
          1,
          1,
          1,
          1,
          1,
          2,
          1,
          2,
          2,
          2,
          2,
          2,
          1,
          3,
          2,
          2,
          1,
          2,
          2,
          1,
          2,
          3,
          3,
          1,
          0,
          0,
          1,
          2,
          2,
          4,
          1,
          2,
          4,
          0,
          1,
          4,
          2,
          3,
          2,
          2,
          1,
          1,
          1,
          4,
          1,
          3,
          1,
          2,
          3,
          1,
          3,
          3,
          1,
          2,
          2,
          5,
          3,
          1,
          3,
          6,
          4,
          2,
          2,
          2,
          3,
          2,
          3,
          1,
          3,
          3,
          6,
          1,
          3,
          0,
          2,
          0,
          3,
          4,
          5,
          1,
          0,
          2,
          1,
          3,
          2,
          3,
          1,
          1,
          5,
          3,
          2,
          0,
          1,
          1,
          2,
          3,
          1,
          1,
          4,
          2,
          2,
          1,
          3,
          6,
          2,
          2,
          2,
          1,
          2,
          2,
          2,
          1,
          4,
          3,
          2,
          4,
          3,
          2,
          1,
          3,
          2,
          3,
          0,
          2,
          2,
          3,
          2,
          2,
          2,
          1,
          1,
          1,
          2,
          3,
          2,
          3,
          2,
          4,
          2,
          1,
          2,
          1,
          2,
          1,
          3,
          2,
          1,
          2,
          0,
          1,
          2,
          2,
          3,
          3,
          3,
          4,
          0,
          3,
          4,
          3,
          2,
          2,
          1,
          5,
          6,
          2,
          2,
          1,
          6,
          0,
          3,
          2,
          4,
          1,
          5,
          3,
          3,
          0,
          3,
          2,
          3,
          2,
          2,
          2,
          3,
          1,
          3,
          2,
          3,
          1,
          3,
          2,
          3,
          1,
          1,
          1,
          2,
          2,
          1,
          2,
          2,
          2,
          0,
          2,
          0,
          0,
          1,
          0,
          2,
          3,
          2,
          2,
          2,
          1,
          2,
          2,
          2,
          1,
          4,
          3,
          1,
          1,
          1,
          1,
          2,
          3,
          2,
          1,
          4,
          1,
          2,
          3,
          3,
          1,
          0,
          1,
          1,
          3,
          2,
          2,
          3,
          3,
          2,
          1,
          3,
          2,
          4,
          2,
          1,
          2,
          3,
          2,
          2,
          0,
          1,
          1,
          4,
          1,
          2,
          2,
          0,
          3,
          2,
          1,
          2,
          3,
          2,
          5,
          3,
          4,
          3,
          1,
          4,
          3,
          1,
          5,
          2,
          0,
          1,
          2,
          1,
          0,
          1,
          2,
          0,
          2,
          1,
          2,
          4,
          1,
          4,
          3,
          2,
          2,
          1,
          1,
          2,
          3,
          1,
          3,
          2,
          4,
          2,
          3,
          1,
          2,
          0,
          2,
          1,
          2,
          0,
          2,
          2,
          4,
          5,
          1,
          1,
          2,
          1,
          1,
          4,
          3,
          2,
          3,
          1,
          2,
          5,
          2,
          2,
          1,
          0,
          4,
          3,
          1,
          2,
          1
         ],
         "xaxis": "x",
         "yaxis": "y"
        }
       ],
       "layout": {
        "barmode": "relative",
        "legend": {
         "title": {
          "text": "variable"
         },
         "tracegroupgap": 0
        },
        "margin": {
         "t": 60
        },
        "template": {
         "data": {
          "bar": [
           {
            "error_x": {
             "color": "#2a3f5f"
            },
            "error_y": {
             "color": "#2a3f5f"
            },
            "marker": {
             "line": {
              "color": "white",
              "width": 0.5
             },
             "pattern": {
              "fillmode": "overlay",
              "size": 10,
              "solidity": 0.2
             }
            },
            "type": "bar"
           }
          ],
          "barpolar": [
           {
            "marker": {
             "line": {
              "color": "white",
              "width": 0.5
             },
             "pattern": {
              "fillmode": "overlay",
              "size": 10,
              "solidity": 0.2
             }
            },
            "type": "barpolar"
           }
          ],
          "carpet": [
           {
            "aaxis": {
             "endlinecolor": "#2a3f5f",
             "gridcolor": "#C8D4E3",
             "linecolor": "#C8D4E3",
             "minorgridcolor": "#C8D4E3",
             "startlinecolor": "#2a3f5f"
            },
            "baxis": {
             "endlinecolor": "#2a3f5f",
             "gridcolor": "#C8D4E3",
             "linecolor": "#C8D4E3",
             "minorgridcolor": "#C8D4E3",
             "startlinecolor": "#2a3f5f"
            },
            "type": "carpet"
           }
          ],
          "choropleth": [
           {
            "colorbar": {
             "outlinewidth": 0,
             "ticks": ""
            },
            "type": "choropleth"
           }
          ],
          "contour": [
           {
            "colorbar": {
             "outlinewidth": 0,
             "ticks": ""
            },
            "colorscale": [
             [
              0,
              "#0d0887"
             ],
             [
              0.1111111111111111,
              "#46039f"
             ],
             [
              0.2222222222222222,
              "#7201a8"
             ],
             [
              0.3333333333333333,
              "#9c179e"
             ],
             [
              0.4444444444444444,
              "#bd3786"
             ],
             [
              0.5555555555555556,
              "#d8576b"
             ],
             [
              0.6666666666666666,
              "#ed7953"
             ],
             [
              0.7777777777777778,
              "#fb9f3a"
             ],
             [
              0.8888888888888888,
              "#fdca26"
             ],
             [
              1,
              "#f0f921"
             ]
            ],
            "type": "contour"
           }
          ],
          "contourcarpet": [
           {
            "colorbar": {
             "outlinewidth": 0,
             "ticks": ""
            },
            "type": "contourcarpet"
           }
          ],
          "heatmap": [
           {
            "colorbar": {
             "outlinewidth": 0,
             "ticks": ""
            },
            "colorscale": [
             [
              0,
              "#0d0887"
             ],
             [
              0.1111111111111111,
              "#46039f"
             ],
             [
              0.2222222222222222,
              "#7201a8"
             ],
             [
              0.3333333333333333,
              "#9c179e"
             ],
             [
              0.4444444444444444,
              "#bd3786"
             ],
             [
              0.5555555555555556,
              "#d8576b"
             ],
             [
              0.6666666666666666,
              "#ed7953"
             ],
             [
              0.7777777777777778,
              "#fb9f3a"
             ],
             [
              0.8888888888888888,
              "#fdca26"
             ],
             [
              1,
              "#f0f921"
             ]
            ],
            "type": "heatmap"
           }
          ],
          "heatmapgl": [
           {
            "colorbar": {
             "outlinewidth": 0,
             "ticks": ""
            },
            "colorscale": [
             [
              0,
              "#0d0887"
             ],
             [
              0.1111111111111111,
              "#46039f"
             ],
             [
              0.2222222222222222,
              "#7201a8"
             ],
             [
              0.3333333333333333,
              "#9c179e"
             ],
             [
              0.4444444444444444,
              "#bd3786"
             ],
             [
              0.5555555555555556,
              "#d8576b"
             ],
             [
              0.6666666666666666,
              "#ed7953"
             ],
             [
              0.7777777777777778,
              "#fb9f3a"
             ],
             [
              0.8888888888888888,
              "#fdca26"
             ],
             [
              1,
              "#f0f921"
             ]
            ],
            "type": "heatmapgl"
           }
          ],
          "histogram": [
           {
            "marker": {
             "pattern": {
              "fillmode": "overlay",
              "size": 10,
              "solidity": 0.2
             }
            },
            "type": "histogram"
           }
          ],
          "histogram2d": [
           {
            "colorbar": {
             "outlinewidth": 0,
             "ticks": ""
            },
            "colorscale": [
             [
              0,
              "#0d0887"
             ],
             [
              0.1111111111111111,
              "#46039f"
             ],
             [
              0.2222222222222222,
              "#7201a8"
             ],
             [
              0.3333333333333333,
              "#9c179e"
             ],
             [
              0.4444444444444444,
              "#bd3786"
             ],
             [
              0.5555555555555556,
              "#d8576b"
             ],
             [
              0.6666666666666666,
              "#ed7953"
             ],
             [
              0.7777777777777778,
              "#fb9f3a"
             ],
             [
              0.8888888888888888,
              "#fdca26"
             ],
             [
              1,
              "#f0f921"
             ]
            ],
            "type": "histogram2d"
           }
          ],
          "histogram2dcontour": [
           {
            "colorbar": {
             "outlinewidth": 0,
             "ticks": ""
            },
            "colorscale": [
             [
              0,
              "#0d0887"
             ],
             [
              0.1111111111111111,
              "#46039f"
             ],
             [
              0.2222222222222222,
              "#7201a8"
             ],
             [
              0.3333333333333333,
              "#9c179e"
             ],
             [
              0.4444444444444444,
              "#bd3786"
             ],
             [
              0.5555555555555556,
              "#d8576b"
             ],
             [
              0.6666666666666666,
              "#ed7953"
             ],
             [
              0.7777777777777778,
              "#fb9f3a"
             ],
             [
              0.8888888888888888,
              "#fdca26"
             ],
             [
              1,
              "#f0f921"
             ]
            ],
            "type": "histogram2dcontour"
           }
          ],
          "mesh3d": [
           {
            "colorbar": {
             "outlinewidth": 0,
             "ticks": ""
            },
            "type": "mesh3d"
           }
          ],
          "parcoords": [
           {
            "line": {
             "colorbar": {
              "outlinewidth": 0,
              "ticks": ""
             }
            },
            "type": "parcoords"
           }
          ],
          "pie": [
           {
            "automargin": true,
            "type": "pie"
           }
          ],
          "scatter": [
           {
            "fillpattern": {
             "fillmode": "overlay",
             "size": 10,
             "solidity": 0.2
            },
            "type": "scatter"
           }
          ],
          "scatter3d": [
           {
            "line": {
             "colorbar": {
              "outlinewidth": 0,
              "ticks": ""
             }
            },
            "marker": {
             "colorbar": {
              "outlinewidth": 0,
              "ticks": ""
             }
            },
            "type": "scatter3d"
           }
          ],
          "scattercarpet": [
           {
            "marker": {
             "colorbar": {
              "outlinewidth": 0,
              "ticks": ""
             }
            },
            "type": "scattercarpet"
           }
          ],
          "scattergeo": [
           {
            "marker": {
             "colorbar": {
              "outlinewidth": 0,
              "ticks": ""
             }
            },
            "type": "scattergeo"
           }
          ],
          "scattergl": [
           {
            "marker": {
             "colorbar": {
              "outlinewidth": 0,
              "ticks": ""
             }
            },
            "type": "scattergl"
           }
          ],
          "scattermapbox": [
           {
            "marker": {
             "colorbar": {
              "outlinewidth": 0,
              "ticks": ""
             }
            },
            "type": "scattermapbox"
           }
          ],
          "scatterpolar": [
           {
            "marker": {
             "colorbar": {
              "outlinewidth": 0,
              "ticks": ""
             }
            },
            "type": "scatterpolar"
           }
          ],
          "scatterpolargl": [
           {
            "marker": {
             "colorbar": {
              "outlinewidth": 0,
              "ticks": ""
             }
            },
            "type": "scatterpolargl"
           }
          ],
          "scatterternary": [
           {
            "marker": {
             "colorbar": {
              "outlinewidth": 0,
              "ticks": ""
             }
            },
            "type": "scatterternary"
           }
          ],
          "surface": [
           {
            "colorbar": {
             "outlinewidth": 0,
             "ticks": ""
            },
            "colorscale": [
             [
              0,
              "#0d0887"
             ],
             [
              0.1111111111111111,
              "#46039f"
             ],
             [
              0.2222222222222222,
              "#7201a8"
             ],
             [
              0.3333333333333333,
              "#9c179e"
             ],
             [
              0.4444444444444444,
              "#bd3786"
             ],
             [
              0.5555555555555556,
              "#d8576b"
             ],
             [
              0.6666666666666666,
              "#ed7953"
             ],
             [
              0.7777777777777778,
              "#fb9f3a"
             ],
             [
              0.8888888888888888,
              "#fdca26"
             ],
             [
              1,
              "#f0f921"
             ]
            ],
            "type": "surface"
           }
          ],
          "table": [
           {
            "cells": {
             "fill": {
              "color": "#EBF0F8"
             },
             "line": {
              "color": "white"
             }
            },
            "header": {
             "fill": {
              "color": "#C8D4E3"
             },
             "line": {
              "color": "white"
             }
            },
            "type": "table"
           }
          ]
         },
         "layout": {
          "annotationdefaults": {
           "arrowcolor": "#2a3f5f",
           "arrowhead": 0,
           "arrowwidth": 1
          },
          "autotypenumbers": "strict",
          "coloraxis": {
           "colorbar": {
            "outlinewidth": 0,
            "ticks": ""
           }
          },
          "colorscale": {
           "diverging": [
            [
             0,
             "#8e0152"
            ],
            [
             0.1,
             "#c51b7d"
            ],
            [
             0.2,
             "#de77ae"
            ],
            [
             0.3,
             "#f1b6da"
            ],
            [
             0.4,
             "#fde0ef"
            ],
            [
             0.5,
             "#f7f7f7"
            ],
            [
             0.6,
             "#e6f5d0"
            ],
            [
             0.7,
             "#b8e186"
            ],
            [
             0.8,
             "#7fbc41"
            ],
            [
             0.9,
             "#4d9221"
            ],
            [
             1,
             "#276419"
            ]
           ],
           "sequential": [
            [
             0,
             "#0d0887"
            ],
            [
             0.1111111111111111,
             "#46039f"
            ],
            [
             0.2222222222222222,
             "#7201a8"
            ],
            [
             0.3333333333333333,
             "#9c179e"
            ],
            [
             0.4444444444444444,
             "#bd3786"
            ],
            [
             0.5555555555555556,
             "#d8576b"
            ],
            [
             0.6666666666666666,
             "#ed7953"
            ],
            [
             0.7777777777777778,
             "#fb9f3a"
            ],
            [
             0.8888888888888888,
             "#fdca26"
            ],
            [
             1,
             "#f0f921"
            ]
           ],
           "sequentialminus": [
            [
             0,
             "#0d0887"
            ],
            [
             0.1111111111111111,
             "#46039f"
            ],
            [
             0.2222222222222222,
             "#7201a8"
            ],
            [
             0.3333333333333333,
             "#9c179e"
            ],
            [
             0.4444444444444444,
             "#bd3786"
            ],
            [
             0.5555555555555556,
             "#d8576b"
            ],
            [
             0.6666666666666666,
             "#ed7953"
            ],
            [
             0.7777777777777778,
             "#fb9f3a"
            ],
            [
             0.8888888888888888,
             "#fdca26"
            ],
            [
             1,
             "#f0f921"
            ]
           ]
          },
          "colorway": [
           "#636efa",
           "#EF553B",
           "#00cc96",
           "#ab63fa",
           "#FFA15A",
           "#19d3f3",
           "#FF6692",
           "#B6E880",
           "#FF97FF",
           "#FECB52"
          ],
          "font": {
           "color": "#2a3f5f"
          },
          "geo": {
           "bgcolor": "white",
           "lakecolor": "white",
           "landcolor": "white",
           "showlakes": true,
           "showland": true,
           "subunitcolor": "#C8D4E3"
          },
          "hoverlabel": {
           "align": "left"
          },
          "hovermode": "closest",
          "mapbox": {
           "style": "light"
          },
          "paper_bgcolor": "white",
          "plot_bgcolor": "white",
          "polar": {
           "angularaxis": {
            "gridcolor": "#EBF0F8",
            "linecolor": "#EBF0F8",
            "ticks": ""
           },
           "bgcolor": "white",
           "radialaxis": {
            "gridcolor": "#EBF0F8",
            "linecolor": "#EBF0F8",
            "ticks": ""
           }
          },
          "scene": {
           "xaxis": {
            "backgroundcolor": "white",
            "gridcolor": "#DFE8F3",
            "gridwidth": 2,
            "linecolor": "#EBF0F8",
            "showbackground": true,
            "ticks": "",
            "zerolinecolor": "#EBF0F8"
           },
           "yaxis": {
            "backgroundcolor": "white",
            "gridcolor": "#DFE8F3",
            "gridwidth": 2,
            "linecolor": "#EBF0F8",
            "showbackground": true,
            "ticks": "",
            "zerolinecolor": "#EBF0F8"
           },
           "zaxis": {
            "backgroundcolor": "white",
            "gridcolor": "#DFE8F3",
            "gridwidth": 2,
            "linecolor": "#EBF0F8",
            "showbackground": true,
            "ticks": "",
            "zerolinecolor": "#EBF0F8"
           }
          },
          "shapedefaults": {
           "line": {
            "color": "#2a3f5f"
           }
          },
          "ternary": {
           "aaxis": {
            "gridcolor": "#DFE8F3",
            "linecolor": "#A2B1C6",
            "ticks": ""
           },
           "baxis": {
            "gridcolor": "#DFE8F3",
            "linecolor": "#A2B1C6",
            "ticks": ""
           },
           "bgcolor": "white",
           "caxis": {
            "gridcolor": "#DFE8F3",
            "linecolor": "#A2B1C6",
            "ticks": ""
           }
          },
          "title": {
           "x": 0.05
          },
          "xaxis": {
           "automargin": true,
           "gridcolor": "#EBF0F8",
           "linecolor": "#EBF0F8",
           "ticks": "",
           "title": {
            "standoff": 15
           },
           "zerolinecolor": "#EBF0F8",
           "zerolinewidth": 2
          },
          "yaxis": {
           "automargin": true,
           "gridcolor": "#EBF0F8",
           "linecolor": "#EBF0F8",
           "ticks": "",
           "title": {
            "standoff": 15
           },
           "zerolinecolor": "#EBF0F8",
           "zerolinewidth": 2
          }
         }
        },
        "xaxis": {
         "anchor": "y",
         "domain": [
          0,
          1
         ],
         "title": {
          "text": "value"
         }
        },
        "yaxis": {
         "anchor": "x",
         "domain": [
          0,
          1
         ],
         "title": {
          "text": "count"
         }
        }
       }
      }
     },
     "metadata": {},
     "output_type": "display_data"
    }
   ],
   "source": [
    "px.histogram(list(scores_dict.values()), template=\"plotly_white\")"
   ]
  },
  {
   "cell_type": "code",
   "execution_count": 33,
   "metadata": {},
   "outputs": [
    {
     "data": {
      "text/plain": [
       "frozenset({frozenset({'Bud', 'Jie', 'Kirtiraj'}),\n",
       "           frozenset({'Kyle B.', 'Mohar', 'Stan'}),\n",
       "           frozenset({'Carly', 'Denis', 'Eunice', 'Jonathan'}),\n",
       "           frozenset({'Cody', 'Kyle C.', 'Piyush'})})"
      ]
     },
     "execution_count": 33,
     "metadata": {},
     "output_type": "execute_result"
    }
   ],
   "source": [
    "final_group"
   ]
  },
  {
   "cell_type": "code",
   "execution_count": 50,
   "metadata": {},
   "outputs": [],
   "source": [
    "import yfinance as yf\n",
    "import pendulum\n",
    "import matplotlib.pyplot as plt\n",
    "price_history = yf.Ticker('DKS').history(period='1d', # valid periods: 1d,5d,1mo,3mo,6mo,1y,2y,5y,10y,ytd,max\n",
    "                                   interval='5m', # valid intervals: 1m,2m,5m,15m,30m,60m,90m,1h,1d,5d,1wk,1mo,3mo\n",
    "                                   actions=False)\n",
    "\n"
   ]
  },
  {
   "cell_type": "code",
   "execution_count": 61,
   "metadata": {},
   "outputs": [
    {
     "data": {
      "text/html": [
       "<div>\n",
       "<style scoped>\n",
       "    .dataframe tbody tr th:only-of-type {\n",
       "        vertical-align: middle;\n",
       "    }\n",
       "\n",
       "    .dataframe tbody tr th {\n",
       "        vertical-align: top;\n",
       "    }\n",
       "\n",
       "    .dataframe thead th {\n",
       "        text-align: right;\n",
       "    }\n",
       "</style>\n",
       "<table border=\"1\" class=\"dataframe\">\n",
       "  <thead>\n",
       "    <tr style=\"text-align: right;\">\n",
       "      <th></th>\n",
       "      <th>Open</th>\n",
       "      <th>High</th>\n",
       "      <th>Low</th>\n",
       "      <th>Close</th>\n",
       "      <th>Volume</th>\n",
       "    </tr>\n",
       "    <tr>\n",
       "      <th>Datetime</th>\n",
       "      <th></th>\n",
       "      <th></th>\n",
       "      <th></th>\n",
       "      <th></th>\n",
       "      <th></th>\n",
       "    </tr>\n",
       "  </thead>\n",
       "  <tbody>\n",
       "    <tr>\n",
       "      <th>2022-11-10 09:30:00-05:00</th>\n",
       "      <td>107.459999</td>\n",
       "      <td>108.985001</td>\n",
       "      <td>106.930000</td>\n",
       "      <td>108.709999</td>\n",
       "      <td>55047</td>\n",
       "    </tr>\n",
       "    <tr>\n",
       "      <th>2022-11-10 09:35:00-05:00</th>\n",
       "      <td>108.709999</td>\n",
       "      <td>108.860001</td>\n",
       "      <td>107.247200</td>\n",
       "      <td>108.839996</td>\n",
       "      <td>33267</td>\n",
       "    </tr>\n",
       "    <tr>\n",
       "      <th>2022-11-10 09:40:00-05:00</th>\n",
       "      <td>108.570000</td>\n",
       "      <td>108.800003</td>\n",
       "      <td>107.474998</td>\n",
       "      <td>107.757500</td>\n",
       "      <td>31855</td>\n",
       "    </tr>\n",
       "    <tr>\n",
       "      <th>2022-11-10 09:45:00-05:00</th>\n",
       "      <td>107.724998</td>\n",
       "      <td>108.709999</td>\n",
       "      <td>107.599998</td>\n",
       "      <td>108.459999</td>\n",
       "      <td>43884</td>\n",
       "    </tr>\n",
       "    <tr>\n",
       "      <th>2022-11-10 09:50:00-05:00</th>\n",
       "      <td>108.610001</td>\n",
       "      <td>110.169998</td>\n",
       "      <td>108.110001</td>\n",
       "      <td>110.000000</td>\n",
       "      <td>55030</td>\n",
       "    </tr>\n",
       "    <tr>\n",
       "      <th>...</th>\n",
       "      <td>...</td>\n",
       "      <td>...</td>\n",
       "      <td>...</td>\n",
       "      <td>...</td>\n",
       "      <td>...</td>\n",
       "    </tr>\n",
       "    <tr>\n",
       "      <th>2022-11-10 15:40:00-05:00</th>\n",
       "      <td>110.570000</td>\n",
       "      <td>110.669998</td>\n",
       "      <td>110.480003</td>\n",
       "      <td>110.500000</td>\n",
       "      <td>38889</td>\n",
       "    </tr>\n",
       "    <tr>\n",
       "      <th>2022-11-10 15:45:00-05:00</th>\n",
       "      <td>110.529999</td>\n",
       "      <td>110.669998</td>\n",
       "      <td>110.440002</td>\n",
       "      <td>110.620003</td>\n",
       "      <td>49085</td>\n",
       "    </tr>\n",
       "    <tr>\n",
       "      <th>2022-11-10 15:50:00-05:00</th>\n",
       "      <td>110.769997</td>\n",
       "      <td>110.810997</td>\n",
       "      <td>110.559998</td>\n",
       "      <td>110.779999</td>\n",
       "      <td>83848</td>\n",
       "    </tr>\n",
       "    <tr>\n",
       "      <th>2022-11-10 15:55:00-05:00</th>\n",
       "      <td>110.819901</td>\n",
       "      <td>111.080002</td>\n",
       "      <td>110.650002</td>\n",
       "      <td>111.000000</td>\n",
       "      <td>168590</td>\n",
       "    </tr>\n",
       "    <tr>\n",
       "      <th>2022-11-10 16:00:00-05:00</th>\n",
       "      <td>111.059998</td>\n",
       "      <td>111.059998</td>\n",
       "      <td>111.059998</td>\n",
       "      <td>111.059998</td>\n",
       "      <td>0</td>\n",
       "    </tr>\n",
       "  </tbody>\n",
       "</table>\n",
       "<p>79 rows × 5 columns</p>\n",
       "</div>"
      ],
      "text/plain": [
       "                                 Open        High         Low       Close  \\\n",
       "Datetime                                                                    \n",
       "2022-11-10 09:30:00-05:00  107.459999  108.985001  106.930000  108.709999   \n",
       "2022-11-10 09:35:00-05:00  108.709999  108.860001  107.247200  108.839996   \n",
       "2022-11-10 09:40:00-05:00  108.570000  108.800003  107.474998  107.757500   \n",
       "2022-11-10 09:45:00-05:00  107.724998  108.709999  107.599998  108.459999   \n",
       "2022-11-10 09:50:00-05:00  108.610001  110.169998  108.110001  110.000000   \n",
       "...                               ...         ...         ...         ...   \n",
       "2022-11-10 15:40:00-05:00  110.570000  110.669998  110.480003  110.500000   \n",
       "2022-11-10 15:45:00-05:00  110.529999  110.669998  110.440002  110.620003   \n",
       "2022-11-10 15:50:00-05:00  110.769997  110.810997  110.559998  110.779999   \n",
       "2022-11-10 15:55:00-05:00  110.819901  111.080002  110.650002  111.000000   \n",
       "2022-11-10 16:00:00-05:00  111.059998  111.059998  111.059998  111.059998   \n",
       "\n",
       "                           Volume  \n",
       "Datetime                           \n",
       "2022-11-10 09:30:00-05:00   55047  \n",
       "2022-11-10 09:35:00-05:00   33267  \n",
       "2022-11-10 09:40:00-05:00   31855  \n",
       "2022-11-10 09:45:00-05:00   43884  \n",
       "2022-11-10 09:50:00-05:00   55030  \n",
       "...                           ...  \n",
       "2022-11-10 15:40:00-05:00   38889  \n",
       "2022-11-10 15:45:00-05:00   49085  \n",
       "2022-11-10 15:50:00-05:00   83848  \n",
       "2022-11-10 15:55:00-05:00  168590  \n",
       "2022-11-10 16:00:00-05:00       0  \n",
       "\n",
       "[79 rows x 5 columns]"
      ]
     },
     "execution_count": 61,
     "metadata": {},
     "output_type": "execute_result"
    }
   ],
   "source": [
    "price_history"
   ]
  },
  {
   "cell_type": "code",
   "execution_count": 74,
   "metadata": {},
   "outputs": [
    {
     "data": {
      "text/plain": [
       "11106"
      ]
     },
     "execution_count": 74,
     "metadata": {},
     "output_type": "execute_result"
    }
   ],
   "source": [
    "int(round(price_history.reset_index().sort_values(by=\"Datetime\").tail(1)[[\"Open\"]].iloc[0,0],2)*100)"
   ]
  },
  {
   "cell_type": "code",
   "execution_count": 60,
   "metadata": {},
   "outputs": [
    {
     "data": {
      "application/vnd.plotly.v1+json": {
       "config": {
        "plotlyServerURL": "https://plot.ly"
       },
       "data": [
        {
         "hovertemplate": "Datetime=%{x}<br>Open=%{y}<extra></extra>",
         "legendgroup": "",
         "line": {
          "color": "green",
          "dash": "solid",
          "width": 4
         },
         "marker": {
          "symbol": "circle"
         },
         "mode": "lines",
         "name": "",
         "orientation": "v",
         "showlegend": false,
         "type": "scatter",
         "x": [
          "2022-11-10T09:30:00-05:00",
          "2022-11-10T09:35:00-05:00",
          "2022-11-10T09:40:00-05:00",
          "2022-11-10T09:45:00-05:00",
          "2022-11-10T09:50:00-05:00",
          "2022-11-10T09:55:00-05:00",
          "2022-11-10T10:00:00-05:00",
          "2022-11-10T10:05:00-05:00",
          "2022-11-10T10:10:00-05:00",
          "2022-11-10T10:15:00-05:00",
          "2022-11-10T10:20:00-05:00",
          "2022-11-10T10:25:00-05:00",
          "2022-11-10T10:30:00-05:00",
          "2022-11-10T10:35:00-05:00",
          "2022-11-10T10:40:00-05:00",
          "2022-11-10T10:45:00-05:00",
          "2022-11-10T10:50:00-05:00",
          "2022-11-10T10:55:00-05:00",
          "2022-11-10T11:00:00-05:00",
          "2022-11-10T11:05:00-05:00",
          "2022-11-10T11:10:00-05:00",
          "2022-11-10T11:15:00-05:00",
          "2022-11-10T11:20:00-05:00",
          "2022-11-10T11:25:00-05:00",
          "2022-11-10T11:30:00-05:00",
          "2022-11-10T11:35:00-05:00",
          "2022-11-10T11:40:00-05:00",
          "2022-11-10T11:45:00-05:00",
          "2022-11-10T11:50:00-05:00",
          "2022-11-10T11:55:00-05:00",
          "2022-11-10T12:00:00-05:00",
          "2022-11-10T12:05:00-05:00",
          "2022-11-10T12:10:00-05:00",
          "2022-11-10T12:15:00-05:00",
          "2022-11-10T12:20:00-05:00",
          "2022-11-10T12:25:00-05:00",
          "2022-11-10T12:30:00-05:00",
          "2022-11-10T12:35:00-05:00",
          "2022-11-10T12:40:00-05:00",
          "2022-11-10T12:45:00-05:00",
          "2022-11-10T12:50:00-05:00",
          "2022-11-10T12:55:00-05:00",
          "2022-11-10T13:00:00-05:00",
          "2022-11-10T13:05:00-05:00",
          "2022-11-10T13:10:00-05:00",
          "2022-11-10T13:15:00-05:00",
          "2022-11-10T13:20:00-05:00",
          "2022-11-10T13:25:00-05:00",
          "2022-11-10T13:30:00-05:00",
          "2022-11-10T13:35:00-05:00",
          "2022-11-10T13:40:00-05:00",
          "2022-11-10T13:45:00-05:00",
          "2022-11-10T13:50:00-05:00",
          "2022-11-10T13:55:00-05:00",
          "2022-11-10T14:00:00-05:00",
          "2022-11-10T14:05:00-05:00",
          "2022-11-10T14:10:00-05:00",
          "2022-11-10T14:15:00-05:00",
          "2022-11-10T14:20:00-05:00",
          "2022-11-10T14:25:00-05:00",
          "2022-11-10T14:30:00-05:00",
          "2022-11-10T14:35:00-05:00",
          "2022-11-10T14:40:00-05:00",
          "2022-11-10T14:45:00-05:00",
          "2022-11-10T14:50:00-05:00",
          "2022-11-10T14:55:00-05:00",
          "2022-11-10T15:00:00-05:00",
          "2022-11-10T15:05:00-05:00",
          "2022-11-10T15:10:00-05:00",
          "2022-11-10T15:15:00-05:00",
          "2022-11-10T15:20:00-05:00",
          "2022-11-10T15:25:00-05:00",
          "2022-11-10T15:30:00-05:00",
          "2022-11-10T15:35:00-05:00",
          "2022-11-10T15:40:00-05:00",
          "2022-11-10T15:45:00-05:00",
          "2022-11-10T15:50:00-05:00",
          "2022-11-10T15:55:00-05:00",
          "2022-11-10T16:00:00-05:00"
         ],
         "xaxis": "x",
         "y": [
          107.45999908447266,
          108.70999908447266,
          108.56999969482422,
          107.7249984741211,
          108.61000061035156,
          109.88999938964844,
          110.9800033569336,
          110.8550033569336,
          111.36000061035156,
          110.93499755859375,
          111.63999938964844,
          112.48999786376953,
          112.30000305175781,
          110.61499786376953,
          110.33999633789062,
          111.22000122070312,
          111.0250015258789,
          110.73999786376953,
          110.97000122070312,
          110.91000366210938,
          110.80000305175781,
          111.2300033569336,
          110.88500213623047,
          110.38999938964844,
          110.58000183105469,
          111.27999877929688,
          111.56999969482422,
          111.29000091552734,
          111.37999725341797,
          111.5999984741211,
          111.87000274658203,
          111.9000015258789,
          110.83000183105469,
          110.86000061035156,
          111.21499633789062,
          111.26000213623047,
          110.79000091552734,
          110.76000213623047,
          110.5,
          110.5999984741211,
          110.44999694824219,
          110.08999633789062,
          109.69000244140625,
          110.12999725341797,
          110.16999816894531,
          110.20500183105469,
          110,
          109.66999816894531,
          109.80000305175781,
          109.5,
          109.58000183105469,
          109.91999816894531,
          109.78500366210938,
          109.5999984741211,
          109.56999969482422,
          109.58000183105469,
          109.6885986328125,
          109.54000091552734,
          109.27999877929688,
          109.12999725341797,
          109.43000030517578,
          109.6500015258789,
          109.56999969482422,
          109.51000213623047,
          109.43499755859375,
          109.5999984741211,
          109.69000244140625,
          109.75,
          109.81999969482422,
          110.07969665527344,
          110.08999633789062,
          110.22000122070312,
          110.20999908447266,
          110.27999877929688,
          110.56999969482422,
          110.52999877929688,
          110.7699966430664,
          110.81990051269531,
          111.05999755859375
         ],
         "yaxis": "y"
        }
       ],
       "layout": {
        "legend": {
         "tracegroupgap": 0
        },
        "margin": {
         "t": 60
        },
        "template": {
         "data": {
          "bar": [
           {
            "error_x": {
             "color": "#2a3f5f"
            },
            "error_y": {
             "color": "#2a3f5f"
            },
            "marker": {
             "line": {
              "color": "white",
              "width": 0.5
             },
             "pattern": {
              "fillmode": "overlay",
              "size": 10,
              "solidity": 0.2
             }
            },
            "type": "bar"
           }
          ],
          "barpolar": [
           {
            "marker": {
             "line": {
              "color": "white",
              "width": 0.5
             },
             "pattern": {
              "fillmode": "overlay",
              "size": 10,
              "solidity": 0.2
             }
            },
            "type": "barpolar"
           }
          ],
          "carpet": [
           {
            "aaxis": {
             "endlinecolor": "#2a3f5f",
             "gridcolor": "#C8D4E3",
             "linecolor": "#C8D4E3",
             "minorgridcolor": "#C8D4E3",
             "startlinecolor": "#2a3f5f"
            },
            "baxis": {
             "endlinecolor": "#2a3f5f",
             "gridcolor": "#C8D4E3",
             "linecolor": "#C8D4E3",
             "minorgridcolor": "#C8D4E3",
             "startlinecolor": "#2a3f5f"
            },
            "type": "carpet"
           }
          ],
          "choropleth": [
           {
            "colorbar": {
             "outlinewidth": 0,
             "ticks": ""
            },
            "type": "choropleth"
           }
          ],
          "contour": [
           {
            "colorbar": {
             "outlinewidth": 0,
             "ticks": ""
            },
            "colorscale": [
             [
              0,
              "#0d0887"
             ],
             [
              0.1111111111111111,
              "#46039f"
             ],
             [
              0.2222222222222222,
              "#7201a8"
             ],
             [
              0.3333333333333333,
              "#9c179e"
             ],
             [
              0.4444444444444444,
              "#bd3786"
             ],
             [
              0.5555555555555556,
              "#d8576b"
             ],
             [
              0.6666666666666666,
              "#ed7953"
             ],
             [
              0.7777777777777778,
              "#fb9f3a"
             ],
             [
              0.8888888888888888,
              "#fdca26"
             ],
             [
              1,
              "#f0f921"
             ]
            ],
            "type": "contour"
           }
          ],
          "contourcarpet": [
           {
            "colorbar": {
             "outlinewidth": 0,
             "ticks": ""
            },
            "type": "contourcarpet"
           }
          ],
          "heatmap": [
           {
            "colorbar": {
             "outlinewidth": 0,
             "ticks": ""
            },
            "colorscale": [
             [
              0,
              "#0d0887"
             ],
             [
              0.1111111111111111,
              "#46039f"
             ],
             [
              0.2222222222222222,
              "#7201a8"
             ],
             [
              0.3333333333333333,
              "#9c179e"
             ],
             [
              0.4444444444444444,
              "#bd3786"
             ],
             [
              0.5555555555555556,
              "#d8576b"
             ],
             [
              0.6666666666666666,
              "#ed7953"
             ],
             [
              0.7777777777777778,
              "#fb9f3a"
             ],
             [
              0.8888888888888888,
              "#fdca26"
             ],
             [
              1,
              "#f0f921"
             ]
            ],
            "type": "heatmap"
           }
          ],
          "heatmapgl": [
           {
            "colorbar": {
             "outlinewidth": 0,
             "ticks": ""
            },
            "colorscale": [
             [
              0,
              "#0d0887"
             ],
             [
              0.1111111111111111,
              "#46039f"
             ],
             [
              0.2222222222222222,
              "#7201a8"
             ],
             [
              0.3333333333333333,
              "#9c179e"
             ],
             [
              0.4444444444444444,
              "#bd3786"
             ],
             [
              0.5555555555555556,
              "#d8576b"
             ],
             [
              0.6666666666666666,
              "#ed7953"
             ],
             [
              0.7777777777777778,
              "#fb9f3a"
             ],
             [
              0.8888888888888888,
              "#fdca26"
             ],
             [
              1,
              "#f0f921"
             ]
            ],
            "type": "heatmapgl"
           }
          ],
          "histogram": [
           {
            "marker": {
             "pattern": {
              "fillmode": "overlay",
              "size": 10,
              "solidity": 0.2
             }
            },
            "type": "histogram"
           }
          ],
          "histogram2d": [
           {
            "colorbar": {
             "outlinewidth": 0,
             "ticks": ""
            },
            "colorscale": [
             [
              0,
              "#0d0887"
             ],
             [
              0.1111111111111111,
              "#46039f"
             ],
             [
              0.2222222222222222,
              "#7201a8"
             ],
             [
              0.3333333333333333,
              "#9c179e"
             ],
             [
              0.4444444444444444,
              "#bd3786"
             ],
             [
              0.5555555555555556,
              "#d8576b"
             ],
             [
              0.6666666666666666,
              "#ed7953"
             ],
             [
              0.7777777777777778,
              "#fb9f3a"
             ],
             [
              0.8888888888888888,
              "#fdca26"
             ],
             [
              1,
              "#f0f921"
             ]
            ],
            "type": "histogram2d"
           }
          ],
          "histogram2dcontour": [
           {
            "colorbar": {
             "outlinewidth": 0,
             "ticks": ""
            },
            "colorscale": [
             [
              0,
              "#0d0887"
             ],
             [
              0.1111111111111111,
              "#46039f"
             ],
             [
              0.2222222222222222,
              "#7201a8"
             ],
             [
              0.3333333333333333,
              "#9c179e"
             ],
             [
              0.4444444444444444,
              "#bd3786"
             ],
             [
              0.5555555555555556,
              "#d8576b"
             ],
             [
              0.6666666666666666,
              "#ed7953"
             ],
             [
              0.7777777777777778,
              "#fb9f3a"
             ],
             [
              0.8888888888888888,
              "#fdca26"
             ],
             [
              1,
              "#f0f921"
             ]
            ],
            "type": "histogram2dcontour"
           }
          ],
          "mesh3d": [
           {
            "colorbar": {
             "outlinewidth": 0,
             "ticks": ""
            },
            "type": "mesh3d"
           }
          ],
          "parcoords": [
           {
            "line": {
             "colorbar": {
              "outlinewidth": 0,
              "ticks": ""
             }
            },
            "type": "parcoords"
           }
          ],
          "pie": [
           {
            "automargin": true,
            "type": "pie"
           }
          ],
          "scatter": [
           {
            "fillpattern": {
             "fillmode": "overlay",
             "size": 10,
             "solidity": 0.2
            },
            "type": "scatter"
           }
          ],
          "scatter3d": [
           {
            "line": {
             "colorbar": {
              "outlinewidth": 0,
              "ticks": ""
             }
            },
            "marker": {
             "colorbar": {
              "outlinewidth": 0,
              "ticks": ""
             }
            },
            "type": "scatter3d"
           }
          ],
          "scattercarpet": [
           {
            "marker": {
             "colorbar": {
              "outlinewidth": 0,
              "ticks": ""
             }
            },
            "type": "scattercarpet"
           }
          ],
          "scattergeo": [
           {
            "marker": {
             "colorbar": {
              "outlinewidth": 0,
              "ticks": ""
             }
            },
            "type": "scattergeo"
           }
          ],
          "scattergl": [
           {
            "marker": {
             "colorbar": {
              "outlinewidth": 0,
              "ticks": ""
             }
            },
            "type": "scattergl"
           }
          ],
          "scattermapbox": [
           {
            "marker": {
             "colorbar": {
              "outlinewidth": 0,
              "ticks": ""
             }
            },
            "type": "scattermapbox"
           }
          ],
          "scatterpolar": [
           {
            "marker": {
             "colorbar": {
              "outlinewidth": 0,
              "ticks": ""
             }
            },
            "type": "scatterpolar"
           }
          ],
          "scatterpolargl": [
           {
            "marker": {
             "colorbar": {
              "outlinewidth": 0,
              "ticks": ""
             }
            },
            "type": "scatterpolargl"
           }
          ],
          "scatterternary": [
           {
            "marker": {
             "colorbar": {
              "outlinewidth": 0,
              "ticks": ""
             }
            },
            "type": "scatterternary"
           }
          ],
          "surface": [
           {
            "colorbar": {
             "outlinewidth": 0,
             "ticks": ""
            },
            "colorscale": [
             [
              0,
              "#0d0887"
             ],
             [
              0.1111111111111111,
              "#46039f"
             ],
             [
              0.2222222222222222,
              "#7201a8"
             ],
             [
              0.3333333333333333,
              "#9c179e"
             ],
             [
              0.4444444444444444,
              "#bd3786"
             ],
             [
              0.5555555555555556,
              "#d8576b"
             ],
             [
              0.6666666666666666,
              "#ed7953"
             ],
             [
              0.7777777777777778,
              "#fb9f3a"
             ],
             [
              0.8888888888888888,
              "#fdca26"
             ],
             [
              1,
              "#f0f921"
             ]
            ],
            "type": "surface"
           }
          ],
          "table": [
           {
            "cells": {
             "fill": {
              "color": "#EBF0F8"
             },
             "line": {
              "color": "white"
             }
            },
            "header": {
             "fill": {
              "color": "#C8D4E3"
             },
             "line": {
              "color": "white"
             }
            },
            "type": "table"
           }
          ]
         },
         "layout": {
          "annotationdefaults": {
           "arrowcolor": "#2a3f5f",
           "arrowhead": 0,
           "arrowwidth": 1
          },
          "autotypenumbers": "strict",
          "coloraxis": {
           "colorbar": {
            "outlinewidth": 0,
            "ticks": ""
           }
          },
          "colorscale": {
           "diverging": [
            [
             0,
             "#8e0152"
            ],
            [
             0.1,
             "#c51b7d"
            ],
            [
             0.2,
             "#de77ae"
            ],
            [
             0.3,
             "#f1b6da"
            ],
            [
             0.4,
             "#fde0ef"
            ],
            [
             0.5,
             "#f7f7f7"
            ],
            [
             0.6,
             "#e6f5d0"
            ],
            [
             0.7,
             "#b8e186"
            ],
            [
             0.8,
             "#7fbc41"
            ],
            [
             0.9,
             "#4d9221"
            ],
            [
             1,
             "#276419"
            ]
           ],
           "sequential": [
            [
             0,
             "#0d0887"
            ],
            [
             0.1111111111111111,
             "#46039f"
            ],
            [
             0.2222222222222222,
             "#7201a8"
            ],
            [
             0.3333333333333333,
             "#9c179e"
            ],
            [
             0.4444444444444444,
             "#bd3786"
            ],
            [
             0.5555555555555556,
             "#d8576b"
            ],
            [
             0.6666666666666666,
             "#ed7953"
            ],
            [
             0.7777777777777778,
             "#fb9f3a"
            ],
            [
             0.8888888888888888,
             "#fdca26"
            ],
            [
             1,
             "#f0f921"
            ]
           ],
           "sequentialminus": [
            [
             0,
             "#0d0887"
            ],
            [
             0.1111111111111111,
             "#46039f"
            ],
            [
             0.2222222222222222,
             "#7201a8"
            ],
            [
             0.3333333333333333,
             "#9c179e"
            ],
            [
             0.4444444444444444,
             "#bd3786"
            ],
            [
             0.5555555555555556,
             "#d8576b"
            ],
            [
             0.6666666666666666,
             "#ed7953"
            ],
            [
             0.7777777777777778,
             "#fb9f3a"
            ],
            [
             0.8888888888888888,
             "#fdca26"
            ],
            [
             1,
             "#f0f921"
            ]
           ]
          },
          "colorway": [
           "#636efa",
           "#EF553B",
           "#00cc96",
           "#ab63fa",
           "#FFA15A",
           "#19d3f3",
           "#FF6692",
           "#B6E880",
           "#FF97FF",
           "#FECB52"
          ],
          "font": {
           "color": "#2a3f5f"
          },
          "geo": {
           "bgcolor": "white",
           "lakecolor": "white",
           "landcolor": "white",
           "showlakes": true,
           "showland": true,
           "subunitcolor": "#C8D4E3"
          },
          "hoverlabel": {
           "align": "left"
          },
          "hovermode": "closest",
          "mapbox": {
           "style": "light"
          },
          "paper_bgcolor": "white",
          "plot_bgcolor": "white",
          "polar": {
           "angularaxis": {
            "gridcolor": "#EBF0F8",
            "linecolor": "#EBF0F8",
            "ticks": ""
           },
           "bgcolor": "white",
           "radialaxis": {
            "gridcolor": "#EBF0F8",
            "linecolor": "#EBF0F8",
            "ticks": ""
           }
          },
          "scene": {
           "xaxis": {
            "backgroundcolor": "white",
            "gridcolor": "#DFE8F3",
            "gridwidth": 2,
            "linecolor": "#EBF0F8",
            "showbackground": true,
            "ticks": "",
            "zerolinecolor": "#EBF0F8"
           },
           "yaxis": {
            "backgroundcolor": "white",
            "gridcolor": "#DFE8F3",
            "gridwidth": 2,
            "linecolor": "#EBF0F8",
            "showbackground": true,
            "ticks": "",
            "zerolinecolor": "#EBF0F8"
           },
           "zaxis": {
            "backgroundcolor": "white",
            "gridcolor": "#DFE8F3",
            "gridwidth": 2,
            "linecolor": "#EBF0F8",
            "showbackground": true,
            "ticks": "",
            "zerolinecolor": "#EBF0F8"
           }
          },
          "shapedefaults": {
           "line": {
            "color": "#2a3f5f"
           }
          },
          "ternary": {
           "aaxis": {
            "gridcolor": "#DFE8F3",
            "linecolor": "#A2B1C6",
            "ticks": ""
           },
           "baxis": {
            "gridcolor": "#DFE8F3",
            "linecolor": "#A2B1C6",
            "ticks": ""
           },
           "bgcolor": "white",
           "caxis": {
            "gridcolor": "#DFE8F3",
            "linecolor": "#A2B1C6",
            "ticks": ""
           }
          },
          "title": {
           "x": 0.05
          },
          "xaxis": {
           "automargin": true,
           "gridcolor": "#EBF0F8",
           "linecolor": "#EBF0F8",
           "ticks": "",
           "title": {
            "standoff": 15
           },
           "zerolinecolor": "#EBF0F8",
           "zerolinewidth": 2
          },
          "yaxis": {
           "automargin": true,
           "gridcolor": "#EBF0F8",
           "linecolor": "#EBF0F8",
           "ticks": "",
           "title": {
            "standoff": 15
           },
           "zerolinecolor": "#EBF0F8",
           "zerolinewidth": 2
          }
         }
        },
        "xaxis": {
         "anchor": "y",
         "domain": [
          0,
          1
         ],
         "title": {
          "text": "Datetime"
         }
        },
        "yaxis": {
         "anchor": "x",
         "domain": [
          0,
          1
         ],
         "title": {
          "text": "Open"
         }
        }
       }
      }
     },
     "metadata": {},
     "output_type": "display_data"
    }
   ],
   "source": [
    "fig = px.line(price_history.reset_index(), x = \"Datetime\", y=\"Open\", template=\"plotly_white\")\n",
    "fig.update_traces(line_color = \"green\", line_width = 4)"
   ]
  },
  {
   "cell_type": "code",
   "execution_count": 52,
   "metadata": {},
   "outputs": [],
   "source": [
    "time_series = list(price_history['Open'])\n",
    "dt_list = [pendulum.parse(str(dt)).float_timestamp for dt in list(price_history.index)]\n",
    "\n",
    "plt.plot(dt_list, time_series, linewidth=2)"
   ]
  },
  {
   "cell_type": "code",
   "execution_count": null,
   "metadata": {},
   "outputs": [],
   "source": [
    "px."
   ]
  },
  {
   "cell_type": "code",
   "execution_count": 54,
   "metadata": {},
   "outputs": [
    {
     "data": {
      "text/plain": [
       "[<matplotlib.lines.Line2D at 0x141352ac0>]"
      ]
     },
     "execution_count": 54,
     "metadata": {},
     "output_type": "execute_result"
    },
    {
     "data": {
      "image/png": "[encoded data removed]",
      "text/plain": [
       "<Figure size 640x480 with 1 Axes>"
      ]
     },
     "metadata": {},
     "output_type": "display_data"
    }
   ],
   "source": [
    "plt.plot(dt_list, time_series, linewidth=2)"
   ]
  },
  {
   "cell_type": "code",
   "execution_count": 53,
   "metadata": {},
   "outputs": [
    {
     "data": {
      "text/plain": [
       "[1668090600.0,\n",
       " 1668090900.0,\n",
       " 1668091200.0,\n",
       " 1668091500.0,\n",
       " 1668091800.0,\n",
       " 1668092100.0,\n",
       " 1668092400.0,\n",
       " 1668092700.0,\n",
       " 1668093000.0,\n",
       " 1668093300.0,\n",
       " 1668093600.0,\n",
       " 1668093900.0,\n",
       " 1668094200.0,\n",
       " 1668094500.0,\n",
       " 1668094800.0,\n",
       " 1668095100.0,\n",
       " 1668095400.0,\n",
       " 1668095700.0,\n",
       " 1668096000.0,\n",
       " 1668096300.0,\n",
       " 1668096600.0,\n",
       " 1668096900.0,\n",
       " 1668097200.0,\n",
       " 1668097500.0,\n",
       " 1668097800.0,\n",
       " 1668098100.0,\n",
       " 1668098400.0,\n",
       " 1668098700.0,\n",
       " 1668099000.0,\n",
       " 1668099300.0,\n",
       " 1668099600.0,\n",
       " 1668099900.0,\n",
       " 1668100200.0,\n",
       " 1668100500.0,\n",
       " 1668100800.0,\n",
       " 1668101100.0,\n",
       " 1668101400.0,\n",
       " 1668101700.0,\n",
       " 1668102000.0,\n",
       " 1668102300.0,\n",
       " 1668102600.0,\n",
       " 1668102900.0,\n",
       " 1668103200.0,\n",
       " 1668103500.0,\n",
       " 1668103800.0,\n",
       " 1668104100.0,\n",
       " 1668104400.0,\n",
       " 1668104700.0,\n",
       " 1668105000.0,\n",
       " 1668105300.0,\n",
       " 1668105600.0,\n",
       " 1668105900.0,\n",
       " 1668106200.0,\n",
       " 1668106500.0,\n",
       " 1668106800.0,\n",
       " 1668107100.0,\n",
       " 1668107400.0,\n",
       " 1668107700.0,\n",
       " 1668108000.0,\n",
       " 1668108300.0,\n",
       " 1668108600.0,\n",
       " 1668108900.0,\n",
       " 1668109200.0,\n",
       " 1668109500.0,\n",
       " 1668109800.0,\n",
       " 1668110100.0,\n",
       " 1668110400.0,\n",
       " 1668110700.0,\n",
       " 1668111000.0,\n",
       " 1668111300.0,\n",
       " 1668111600.0,\n",
       " 1668111900.0,\n",
       " 1668112200.0,\n",
       " 1668112500.0,\n",
       " 1668112800.0,\n",
       " 1668113100.0,\n",
       " 1668113400.0,\n",
       " 1668113700.0,\n",
       " 1668114000.0]"
      ]
     },
     "execution_count": 53,
     "metadata": {},
     "output_type": "execute_result"
    }
   ],
   "source": [
    "dt_list"
   ]
  }
 ],
 "metadata": {
  "kernelspec": {
   "display_name": "Python 3.8.13 ('dev1')",
   "language": "python",
   "name": "python3"
  },
  "language_info": {
   "codemirror_mode": {
    "name": "ipython",
    "version": 3
   },
   "file_extension": ".py",
   "mimetype": "text/x-python",
   "name": "python",
   "nbconvert_exporter": "python",
   "pygments_lexer": "ipython3",
   "version": "3.8.13"
  },
  "orig_nbformat": 4,
  "vscode": {
   "interpreter": {
    "hash": "b3385324871f6d9570f7620dc92242373aade45234876ddf4712f3af7383fe60"
   }
  }
 },
 "nbformat": 4,
 "nbformat_minor": 2
}
